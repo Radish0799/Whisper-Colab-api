{
 "cells": [
  {
   "cell_type": "code",
   "execution_count": null,
   "id": "c156ff65",
   "metadata": {},
   "outputs": [
    {
     "name": "stdout",
     "output_type": "stream",
     "text": [
      "文字起こし結果：\n",
      "始めまして\n"
     ]
    }
   ],
   "source": [
    "import requests\n",
    "\n",
    "# サーバーの URL（ngrok で取得したものと一致していることを確認してください）\n",
    "API_URL = \"your_api_url\"\n",
    "\n",
    "TRANS_URL = API_URL+\"/v1/audio/transcriptions\"\n",
    "\n",
    "# アップロードする音声ファイルのパス\n",
    "audio_file_path = r\"your_path/test.wav\" # 実際のファイルパスに置き換えてください\n",
    "\n",
    "# アップロードには multipart/form-data を使用します\n",
    "files = {\n",
    "    \"file\": open(audio_file_path, \"rb\"),\n",
    "}\n",
    "\n",
    "# オプションのパラメータも追加できます\n",
    "data = {\n",
    "    \"model\": \"whisper-1\",\n",
    "    \"language\": \"ja\",\n",
    "    \"prompt\": \"\",\n",
    "    \"temperature\": \"0.0\",\n",
    "    \"response_format\": \"text\" # または json\n",
    "}\n",
    "\n",
    "try:\n",
    "    response = requests.post(TRANS_URL, files=files, data=data, timeout=60)\n",
    "    response.raise_for_status() # サーバーがエラーのステータスコードを返した場合、例外を発生させます\n",
    "    print(\"文字起こし結果：\")\n",
    "    print(response.text)\n",
    "except requests.exceptions.RequestException as e:\n",
    "    print(\"API 呼び出し中にエラーが発生しました：\", e)"
   ]
  },
  {
   "cell_type": "markdown",
   "id": "d65a532e",
   "metadata": {},
   "source": [
    "# health"
   ]
  },
  {
   "cell_type": "code",
   "execution_count": null,
   "id": "05aabee6",
   "metadata": {},
   "outputs": [
    {
     "name": "stdout",
     "output_type": "stream",
     "text": [
      "Health：\n",
      "{'model': 'whisper', 'status': 'healthy'}\n"
     ]
    }
   ],
   "source": [
    "import requests\n",
    "\n",
    "# サーバーの URL（ngrok の URL が正しいことを確認してください）\n",
    "API_URL = \"your_api_url\"\n",
    "\n",
    "HEALTH_URL = API_URL+\"/health\"\n",
    "\n",
    "try:\n",
    "    response = requests.get(HEALTH_URL, timeout=10)\n",
    "    response.raise_for_status() # 2xx 以外の場合は例外をスローします\n",
    "    print(\"Health：\")\n",
    "    print(response.json()) # JSON 形式を解析\n",
    "except requests.exceptions.RequestException as e:\n",
    "    print(\"/health 呼び出し中にエラーが発生しました：\", e)"
   ]
  }
 ],
 "metadata": {
  "kernelspec": {
   "display_name": "Python 3",
   "language": "python",
   "name": "python3"
  },
  "language_info": {
   "codemirror_mode": {
    "name": "ipython",
    "version": 3
   },
   "file_extension": ".py",
   "mimetype": "text/x-python",
   "name": "python",
   "nbconvert_exporter": "python",
   "pygments_lexer": "ipython3",
   "version": "3.10.0"
  }
 },
 "nbformat": 4,
 "nbformat_minor": 5
}
