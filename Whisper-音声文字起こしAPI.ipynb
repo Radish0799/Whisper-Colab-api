{
  "cells": [
    {
      "cell_type": "code",
      "execution_count": 2,
      "metadata": {
        "id": "qAnvfimBpBhx"
      },
      "outputs": [],
      "source": [
        "%%capture\n",
        "!pip install openai-whisper\n",
        "!pip install flask\n",
        "!pip install pyngrok\n",
        "!pip install werkzeug"
      ]
    },
    {
      "cell_type": "code",
      "execution_count": 3,
      "metadata": {
        "id": "_bZs5l3xpKRr"
      },
      "outputs": [],
      "source": [
        "import whisper\n",
        "import os\n",
        "import tempfile\n",
        "from flask import Flask, request, jsonify\n",
        "import numpy as np\n",
        "import io\n",
        "import wave\n",
        "from pyngrok import ngrok"
      ]
    },
    {
      "cell_type": "code",
      "execution_count": 4,
      "metadata": {
        "colab": {
          "base_uri": "https://localhost:8080/"
        },
        "id": "F0WUqPCBUayZ",
        "outputId": "b8d41eba-d103-4845-90a8-382ea595aaae"
      },
      "outputs": [
        {
          "name": "stdout",
          "output_type": "stream",
          "text": [
            "Whisper をロード中...\n"
          ]
        },
        {
          "name": "stderr",
          "output_type": "stream",
          "text": [
            "100%|████████████████████████████████████████| 139M/139M [00:00<00:00, 146MiB/s]\n"
          ]
        },
        {
          "name": "stdout",
          "output_type": "stream",
          "text": [
            "モデルのロードが完了しました！\n"
          ]
        }
      ],
      "source": [
        "app = Flask(__name__)\n",
        "\n",
        "# Whisper モデルをロードします (tiny, base, small, medium, large から選択可能)\n",
        "print(\"Whisper をロード中...\")\n",
        "model = whisper.load_model(\"base\")  # \"small\", \"medium\", \"large\" など\n",
        "print(\"モデルのロードが完了しました！\")"
      ]
    },
    {
      "cell_type": "code",
      "execution_count": 5,
      "metadata": {
        "id": "u6JxrfHCcAN4"
      },
      "outputs": [],
      "source": [
        "@app.route('/v1/audio/transcriptions', methods=['POST'])\n",
        "def transcribe():\n",
        "  try:\n",
        "    # ファイルがアップロードされているか確認\n",
        "    if 'file' not in request.files:\n",
        "      return jsonify({'error': 'ファイルが提供されていません'}), 400\n",
        "\n",
        "    file = request.files['file']\n",
        "    if file.filename == '':\n",
        "      return jsonify({'error': 'ファイルが選択されていません'}), 400\n",
        "\n",
        "    # 他のパラメータを取得\n",
        "    model_name = request.form.get('model', 'whisper-1')\n",
        "    language = request.form.get('language', None)\n",
        "    prompt = request.form.get('prompt', None)\n",
        "    temperature = float(request.form.get('temperature', 0.0))\n",
        "    response_format = request.form.get('response_format', 'text')\n",
        "\n",
        "    # アップロードされた音声ファイルを一時ファイルに保存\n",
        "    with tempfile.NamedTemporaryFile(delete=False, suffix='.wav') as temp_file:\n",
        "      file.save(temp_file.name)\n",
        "      temp_filename = temp_file.name\n",
        "\n",
        "    try:\n",
        "      # Whisperで文字起こしを実行\n",
        "      options = {\n",
        "        'temperature': temperature,\n",
        "      }\n",
        "\n",
        "      if language:\n",
        "        options['language'] = language\n",
        "\n",
        "      if prompt:\n",
        "        options['initial_prompt'] = prompt\n",
        "\n",
        "      result = model.transcribe(temp_filename, **options)\n",
        "\n",
        "      # レスポンス形式に応じて結果を返す\n",
        "      if response_format == 'text':\n",
        "        return result['text']\n",
        "      else:\n",
        "        return jsonify(result)\n",
        "\n",
        "    finally:\n",
        "      # 一時ファイルを削除\n",
        "      os.unlink(temp_filename)\n",
        "\n",
        "  except Exception as e:\n",
        "    return jsonify({'error': str(e)}), 500"
      ]
    },
    {
      "cell_type": "code",
      "execution_count": 6,
      "metadata": {
        "id": "CAiGAfwtcD_P"
      },
      "outputs": [],
      "source": [
        "@app.route('/health', methods=['GET'])\n",
        "def health_check():\n",
        "  return jsonify({'status': 'healthy', 'model': 'whisper'})"
      ]
    },
    {
      "cell_type": "code",
      "execution_count": null,
      "metadata": {
        "colab": {
          "base_uri": "https://localhost:8080/"
        },
        "id": "eZ94Ko_5pWts",
        "outputId": "9623a14b-083b-4c77-b1a6-17a9fc8cdb86"
      },
      "outputs": [
        {
          "name": "stdout",
          "output_type": "stream",
          "text": [
            "ngrokトンネルを起動中...\n",
            "API_URL: NgrokTunnel: \"https://0e2c-34-87-67-92.ngrok-free.app\" -> \"http://localhost:5000\"\n",
            "転写エンドポイント: NgrokTunnel: \"https://0e2c-34-87-67-92.ngrok-free.app\" -> \"http://localhost:5000\"/v1/audio/transcriptions\n",
            "ヘルスチェック: NgrokTunnel: \"https://0e2c-34-87-67-92.ngrok-free.app\" -> \"http://localhost:5000\"/health\n",
            " * Serving Flask app '__main__'\n",
            " * Debug mode: off\n"
          ]
        },
        {
          "name": "stderr",
          "output_type": "stream",
          "text": [
            "INFO:werkzeug:\u001b[31m\u001b[1mWARNING: This is a development server. Do not use it in a production deployment. Use a production WSGI server instead.\u001b[0m\n",
            " * Running on all addresses (0.0.0.0)\n",
            " * Running on http://127.0.0.1:5000\n",
            " * Running on http://172.28.0.12:5000\n",
            "INFO:werkzeug:\u001b[33mPress CTRL+C to quit\u001b[0m\n"
          ]
        }
      ],
      "source": [
        "if __name__ == '__main__':\n",
        "  # ngrok 認証トークンを設定（ngrokのサイトから取得してください）\n",
        "  ngrok.set_auth_token(\"ngrok_token\")  # ご自身のngrokトークンに置き換えてください\n",
        "\n",
        "  # ngrokトンネルを起動\n",
        "  print(\"ngrokトンネルを起動中...\")\n",
        "  public_url = ngrok.connect(5000)\n",
        "  print(f\"API_URL: {public_url}\")\n",
        "  print(f\"転写エンドポイント: {public_url}/v1/audio/transcriptions\")\n",
        "  print(f\"ヘルスチェック: {public_url}/health\")\n",
        "\n",
        "  # Flaskアプリケーションを起動\n",
        "  app.run(host='0.0.0.0', port=5000)"
      ]
    }
  ],
  "metadata": {
    "accelerator": "GPU",
    "colab": {
      "gpuType": "T4",
      "provenance": []
    },
    "kernelspec": {
      "display_name": "Python 3",
      "name": "python3"
    },
    "language_info": {
      "name": "python"
    }
  },
  "nbformat": 4,
  "nbformat_minor": 0
}
